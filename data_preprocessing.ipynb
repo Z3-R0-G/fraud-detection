{
 "cells": [
  {
   "cell_type": "code",
   "execution_count": 1,
   "id": "7e3262f5",
   "metadata": {},
   "outputs": [
    {
     "name": "stdout",
     "output_type": "stream",
     "text": [
      "Looking in indexes: https://pypi.org/simple, https://pip.repos.neuron.amazonaws.com\r\n",
      "Requirement already satisfied: numpy in /home/ec2-user/anaconda3/envs/pytorch_p39/lib/python3.9/site-packages (1.23.5)\r\n"
     ]
    }
   ],
   "source": [
    "!pip install numpy"
   ]
  },
  {
   "cell_type": "code",
   "execution_count": 2,
   "id": "c2c72164",
   "metadata": {},
   "outputs": [],
   "source": [
    "import torch\n",
    "from torch.autograd import Variable\n",
    "\n",
    "import s3fs\n",
    "from pyarrow.parquet import ParquetDataset\n",
    "import io\n",
    "import re\n",
    "import string\n",
    "import tqdm\n",
    "import numpy as np\n",
    "import pandas as pd\n",
    "\n",
    "import random\n",
    "import os, errno\n",
    "import sys"
   ]
  },
  {
   "cell_type": "code",
   "execution_count": 4,
   "id": "45e0fcea",
   "metadata": {},
   "outputs": [],
   "source": [
    "#OUT_path_pairs = 's3://tk-dev-datalake2/risk/jerry.zhu/UBS_Embedding/Op_Log_masked_20221121_20221129.parquet'\n",
    "data = pd.read_parquet('Op_Log_masked_v2.parquet')"
   ]
  },
  {
   "cell_type": "code",
   "execution_count": 5,
   "id": "86a967a3",
   "metadata": {},
   "outputs": [
    {
     "name": "stdout",
     "output_type": "stream",
     "text": [
      "Dataframe shape after filtering out singular operations is (240157, 7)\n",
      "There are 249 types of operations!\n"
     ]
    }
   ],
   "source": [
    "user_counts = data['user_id'].value_counts().reset_index()\n",
    "bottom_users = user_counts[user_counts['user_id']<=1]\n",
    "bottom_users = bottom_users['index'].tolist()\n",
    "data = data[~data['user_id'].isin(bottom_users)] \n",
    "print(\"Dataframe shape after filtering out singular operations is \" + str(data.shape))\n",
    "\n",
    "data['request_time'] = pd.to_datetime(data['request_time'], format='%Y-%m-%d %H:%M:%S')\n",
    "data = data.sort_values(by=['request_time'])\n",
    "\n",
    "print(\"There are \" + str(data['operation'].nunique()) + \" types of operations!\")"
   ]
  },
  {
   "cell_type": "code",
   "execution_count": null,
   "id": "c1176666",
   "metadata": {},
   "outputs": [],
   "source": [
    "from sklearn.preprocessing import LabelEncoder\n",
    "\n",
    "#x = data['operation'].to_numpy()\n",
    "#x = OneHotEncoder().fit_transform(x.reshape(-1, 1)).toarray() # removed one-hot encoding since W2V takes categorical\n",
    "y = data['user_id'].to_numpy()\n",
    "z = data['request_time'].to_numpy()\n",
    " \n",
    "# Creating a instance of label Encoder.\n",
    "le = LabelEncoder()\n",
    "x = le.fit_transform(data['operation'])\n",
    "x += 1"
   ]
  },
  {
   "cell_type": "code",
   "execution_count": null,
   "id": "dc2d69a0",
   "metadata": {},
   "outputs": [],
   "source": [
    "users = data['user_id'].unique()"
   ]
  },
  {
   "cell_type": "code",
   "execution_count": null,
   "id": "0e726a15",
   "metadata": {},
   "outputs": [],
   "source": [
    "sequences = [] \n",
    "timestamps = []\n",
    "index = 0\n",
    "\n",
    "for user in users:\n",
    "    uobs = []\n",
    "    uobsTime = []\n",
    "    previousIndex = -1\n",
    "    for i in range(len(y)): \n",
    "        if user == y[i]:\n",
    "            if previousIndex == -1:\n",
    "                previousIndex = i\n",
    "            timeElapsed = (z[i]-z[previousIndex]).astype('timedelta64[ms]').astype(int) \n",
    "            uobs.append(x[i])\n",
    "            uobsTime.append(timeElapsed)\n",
    "            previousIndex = i\n",
    "    sequences.append(uobs)\n",
    "    timestamps.append(uobsTime)\n",
    "    index += 1\n",
    "    print(index)\n",
    "print(\"done\")"
   ]
  },
  {
   "cell_type": "code",
   "execution_count": null,
   "id": "5410952c",
   "metadata": {},
   "outputs": [],
   "source": []
  },
  {
   "cell_type": "code",
   "execution_count": 3,
   "id": "6affbcd4",
   "metadata": {},
   "outputs": [],
   "source": [
    "with open('weights.npy', 'rb') as f:\n",
    "    weights = np.load(f)"
   ]
  },
  {
   "cell_type": "code",
   "execution_count": 4,
   "id": "8a82f6df",
   "metadata": {},
   "outputs": [],
   "source": [
    "import pickle\n",
    "\n",
    "with open('sequences', 'rb') as fp:  \n",
    "    sequences = pickle.load(fp)\n",
    "    \n",
    "with open('timestamps', 'rb') as fp:  \n",
    "    timestamps = pickle.load(fp)"
   ]
  },
  {
   "cell_type": "code",
   "execution_count": 30,
   "id": "cf635891",
   "metadata": {},
   "outputs": [
    {
     "ename": "IndexError",
     "evalue": "arrays used as indices must be of integer (or boolean) type",
     "output_type": "error",
     "traceback": [
      "\u001b[0;31m---------------------------------------------------------------------------\u001b[0m",
      "\u001b[0;31mIndexError\u001b[0m                                Traceback (most recent call last)",
      "\u001b[0;32m/tmp/ipykernel_23301/2340022598.py\u001b[0m in \u001b[0;36m<cell line: 8>\u001b[0;34m()\u001b[0m\n\u001b[1;32m      6\u001b[0m \u001b[0;34m\u001b[0m\u001b[0m\n\u001b[1;32m      7\u001b[0m \u001b[0mnum_sequences\u001b[0m \u001b[0;34m=\u001b[0m \u001b[0msequences\u001b[0m\u001b[0;34m\u001b[0m\u001b[0;34m\u001b[0m\u001b[0m\n\u001b[0;32m----> 8\u001b[0;31m \u001b[0msequences\u001b[0m \u001b[0;34m=\u001b[0m \u001b[0mw2vembedding\u001b[0m\u001b[0;34m(\u001b[0m\u001b[0msequences\u001b[0m\u001b[0;34m,\u001b[0m \u001b[0mweights\u001b[0m\u001b[0;34m)\u001b[0m\u001b[0;34m\u001b[0m\u001b[0;34m\u001b[0m\u001b[0m\n\u001b[0m",
      "\u001b[0;32m/tmp/ipykernel_23301/2340022598.py\u001b[0m in \u001b[0;36mw2vembedding\u001b[0;34m(sequences, weights)\u001b[0m\n\u001b[1;32m      2\u001b[0m     \u001b[0;32mfor\u001b[0m \u001b[0mseqIndex\u001b[0m\u001b[0;34m,\u001b[0m \u001b[0msequence\u001b[0m \u001b[0;32min\u001b[0m \u001b[0menumerate\u001b[0m\u001b[0;34m(\u001b[0m\u001b[0msequences\u001b[0m\u001b[0;34m)\u001b[0m\u001b[0;34m:\u001b[0m\u001b[0;34m\u001b[0m\u001b[0;34m\u001b[0m\u001b[0m\n\u001b[1;32m      3\u001b[0m         \u001b[0;32mfor\u001b[0m \u001b[0mopIndex\u001b[0m\u001b[0;34m,\u001b[0m \u001b[0moperation\u001b[0m \u001b[0;32min\u001b[0m \u001b[0menumerate\u001b[0m\u001b[0;34m(\u001b[0m\u001b[0msequence\u001b[0m\u001b[0;34m)\u001b[0m\u001b[0;34m:\u001b[0m\u001b[0;34m\u001b[0m\u001b[0;34m\u001b[0m\u001b[0m\n\u001b[0;32m----> 4\u001b[0;31m             \u001b[0msequences\u001b[0m\u001b[0;34m[\u001b[0m\u001b[0mseqIndex\u001b[0m\u001b[0;34m]\u001b[0m\u001b[0;34m[\u001b[0m\u001b[0mopIndex\u001b[0m\u001b[0;34m]\u001b[0m \u001b[0;34m=\u001b[0m \u001b[0mweights\u001b[0m\u001b[0;34m[\u001b[0m\u001b[0moperation\u001b[0m \u001b[0;34m-\u001b[0m \u001b[0;36m1\u001b[0m\u001b[0;34m]\u001b[0m\u001b[0;34m\u001b[0m\u001b[0;34m\u001b[0m\u001b[0m\n\u001b[0m\u001b[1;32m      5\u001b[0m     \u001b[0;32mreturn\u001b[0m \u001b[0msequences\u001b[0m\u001b[0;34m\u001b[0m\u001b[0;34m\u001b[0m\u001b[0m\n\u001b[1;32m      6\u001b[0m \u001b[0;34m\u001b[0m\u001b[0m\n",
      "\u001b[0;31mIndexError\u001b[0m: arrays used as indices must be of integer (or boolean) type"
     ]
    }
   ],
   "source": [
    "def w2vembedding(sequences, weights):\n",
    "    for seqIndex, sequence in enumerate(sequences):\n",
    "        for opIndex, operation in enumerate(sequence):\n",
    "            sequences[seqIndex][opIndex] = weights[operation - 1]\n",
    "    return sequences\n",
    "\n",
    "num_sequences = sequences\n",
    "sequences = w2vembedding(sequences, weights)"
   ]
  },
  {
   "cell_type": "code",
   "execution_count": 31,
   "id": "c0e8f4c7",
   "metadata": {},
   "outputs": [],
   "source": [
    "def window(sequences, window_size = 20): \n",
    "    windowed_sequences = []\n",
    "    for sequence in sequences:\n",
    "        if len(sequence) >= window_size:\n",
    "            for i in range(len(sequence) - window_size):\n",
    "                windowed_sequences.append(sequence[i:window_size+i])\n",
    "    return windowed_sequences"
   ]
  },
  {
   "cell_type": "code",
   "execution_count": 32,
   "id": "6f5c90b8",
   "metadata": {},
   "outputs": [],
   "source": [
    "windowed_sequences = window(sequences)\n",
    "torched_windowed_sequences = torch.from_numpy(np.array(windowed_sequences))\n",
    "torched_windowed_sequences = torched_windowed_sequences.type(torch.FloatTensor)\n",
    "\n",
    "windowed_timestamps = window(timestamps)\n",
    "torched_windowed_timestamps = torch.from_numpy(np.array(windowed_timestamps))\n",
    "torched_windowed_timestamps  = torched_windowed_timestamps.type(torch.FloatTensor)"
   ]
  },
  {
   "cell_type": "code",
   "execution_count": 8,
   "id": "3418110c",
   "metadata": {},
   "outputs": [
    {
     "name": "stdout",
     "output_type": "stream",
     "text": [
      "Found existing installation: numpy 1.24.2\n",
      "Uninstalling numpy-1.24.2:\n",
      "  Successfully uninstalled numpy-1.24.2\n",
      "Looking in indexes: https://pypi.org/simple, https://pip.repos.neuron.amazonaws.com\n",
      "Collecting numpy\n",
      "  Using cached numpy-1.24.2-cp39-cp39-manylinux_2_17_x86_64.manylinux2014_x86_64.whl (17.3 MB)\n",
      "Installing collected packages: numpy\n",
      "\u001b[31mERROR: pip's dependency resolver does not currently take into account all the packages that are installed. This behaviour is the source of the following dependency conflicts.\n",
      "numba 0.56.4 requires numpy<1.24,>=1.18, but you have numpy 1.24.2 which is incompatible.\u001b[0m\u001b[31m\n",
      "\u001b[0mSuccessfully installed numpy-1.24.2\n"
     ]
    }
   ],
   "source": [
    "!pip uninstall numpy --yes\n",
    "!pip install numpy\n",
    "\n",
    "import numpy as np"
   ]
  },
  {
   "cell_type": "code",
   "execution_count": 10,
   "id": "d0573559",
   "metadata": {},
   "outputs": [],
   "source": [
    "from sklearn.model_selection import train_test_split\n",
    "\n",
    "train_op, test_op, _, _ = train_test_split(np.array(windowed_sequences), np.array(windowed_sequences), test_size=0.15, random_state=42)\n",
    "train_op = torch.from_numpy(train_op)\n",
    "train_op = train_op.type(torch.FloatTensor)\n",
    "test_op = torch.from_numpy(test_op)\n",
    "test_op = test_op.type(torch.FloatTensor)\n",
    "\n",
    "train_time, test_time, _, _ = train_test_split(np.array(windowed_timestamps), np.array(windowed_timestamps), test_size=0.15, random_state=42)\n",
    "train_time = torch.from_numpy(train_time)\n",
    "train_time = train_time.type(torch.FloatTensor)\n",
    "test_time = torch.from_numpy(test_time)\n",
    "test_time = test_time.type(torch.FloatTensor)\n"
   ]
  },
  {
   "cell_type": "code",
   "execution_count": 35,
   "id": "be976741",
   "metadata": {},
   "outputs": [],
   "source": [
    "train_op = train_op.permute(1,0,2)\n",
    "test_op = test_op.permute(1,0,2)\n",
    "torched_windowed_sequences = torched_windowed_sequences.permute(1,0,2)\n",
    "train_time = train_time.permute(1,0)\n",
    "test_time = test_time.permute(1,0)\n",
    "torched_windowed_timestamps= torched_windowed_timestamps.permute(1,0)"
   ]
  },
  {
   "cell_type": "code",
   "execution_count": 36,
   "id": "c03cb195",
   "metadata": {},
   "outputs": [
    {
     "name": "stdout",
     "output_type": "stream",
     "text": [
      "torch.Size([135030, 20, 128])\n",
      "torch.Size([23829, 20])\n",
      "torch.Size([158859, 20, 128])\n"
     ]
    }
   ],
   "source": [
    "print(train_op.shape)\n",
    "print(test_time.shape)\n",
    "print(torched_windowed_sequences.shape)"
   ]
  },
  {
   "cell_type": "code",
   "execution_count": 37,
   "id": "ec4045d8",
   "metadata": {},
   "outputs": [],
   "source": [
    "with open('train_op','wb') as f:\n",
    "  torch.save(train_op, f)\n",
    "\n",
    "with open('test_op','wb') as f:\n",
    "  torch.save(test_op, f)\n",
    "\n",
    "with open('train_time','wb') as f:\n",
    "  torch.save(train_op, f)\n",
    "\n",
    "with open('test_time','wb') as f:\n",
    "  torch.save(test_op, f)\n",
    "\n",
    "with open('torched_windowed_sequences','wb') as f:\n",
    "  torch.save(torched_windowed_sequences, f)\n",
    "\n",
    "with open('torched_windowed_timestamps','wb') as f:\n",
    "  torch.save(torched_windowed_timestamps, f)"
   ]
  },
  {
   "cell_type": "code",
   "execution_count": null,
   "id": "27db25e2",
   "metadata": {},
   "outputs": [],
   "source": []
  }
 ],
 "metadata": {
  "kernelspec": {
   "display_name": "conda_pytorch_p39",
   "language": "python",
   "name": "conda_pytorch_p39"
  },
  "language_info": {
   "codemirror_mode": {
    "name": "ipython",
    "version": 3
   },
   "file_extension": ".py",
   "mimetype": "text/x-python",
   "name": "python",
   "nbconvert_exporter": "python",
   "pygments_lexer": "ipython3",
   "version": "3.9.15"
  }
 },
 "nbformat": 4,
 "nbformat_minor": 5
}
